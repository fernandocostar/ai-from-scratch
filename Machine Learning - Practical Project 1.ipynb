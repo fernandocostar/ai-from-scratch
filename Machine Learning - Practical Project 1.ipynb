{
 "cells": [
  {
   "cell_type": "markdown",
   "metadata": {
    "collapsed": true
   },
   "source": [
    "# Machine Learning\n",
    "## Projeto 1: Reconhecendo flores Iris"
   ]
  },
  {
   "cell_type": "markdown",
   "metadata": {},
   "source": [
    "\n",
    "\n",
    "## Introdução\n",
    "Neste trabalho serão apresentados dois algoritmos de aprendizado de máquina implementados manualmente sem a utilização de bibliotecas específicas que auxiliem os mesmos. Para os testes vão ser utilizados dados de um dataset conhecido como um dos primeiros problemas de aprendizado de máquina, o [Iris flower dataset](https://en.wikipedia.org/wiki/Iris_flower_data_set).\n",
    "    - Este dataset possui 50 exemplos de cada uma das três espécies de flores Iris (Iris setosa, Iris versicolor e Iris virginica).\n",
    "    - Cada exemplo possui como dados as medidas de largura e comprimento das sépala e pétalas, respectivamente.\n",
    "\n",
    "\n",
    "## kNN: k-Nearest Neighbors\n",
    "O primeiro algoritmo a ser implementado se chama k-Nearest Neighbors (kNN), e sua tradução para o português pode ser interpretada como sendo k Vizinhos mais próximos. O seu funcionamento tem muito a ver com o nome que lhe foi dado, pois, ao ser dado um objeto, a análise para sua identificação é feita a partir da construção de um gráfico e observação das características de um número k de outros pontos próximos.\n",
    "\n",
    "\n",
    "## Passo a passo\n",
    "A partir de agora será mostrada a implementação de cada passo do algoritmo com suas devidas explicações.\n",
    "\n",
    "### Criação da classe\n",
    "Será utilizada orientação à objetos em Python para que criemos objetos de uma classe na qual haverá todos os métodos necessários para a concretização do reconhecimento. E, além disso, também poderemos guardar nos mesmos os dados a serem utilizados para o treinamento do nosso aprendizado. Desta forma, a primeira coisa que devemos fazer é uma classe onde implementaremos o nosso algoritmo.\n"
   ]
  },
  {
   "cell_type": "code",
   "execution_count": 1,
   "metadata": {
    "collapsed": true
   },
   "outputs": [],
   "source": [
    "class knn:\n",
    "    \"K-nearest-neighboards implementation\""
   ]
  },
  {
   "cell_type": "markdown",
   "metadata": {},
   "source": [
    "### Método construtor\n",
    "No método contrutor da classe, aquele que instanciará o objeto da mesma, serão criados três atributos:\n",
    "    - trainingSet: este é um vetor que receberá os dados para o treinamento da classe.\n",
    "    - answers: guardará qual o objeto associado a cada um dos parâmetros contidos no trainingSet   "
   ]
  },
  {
   "cell_type": "code",
   "execution_count": 3,
   "metadata": {
    "collapsed": true
   },
   "outputs": [],
   "source": [
    "    def __init__(self):\n",
    "        self.trainingSet = []\n",
    "        self.answers = []"
   ]
  },
  {
   "cell_type": "markdown",
   "metadata": {},
   "source": [
    "### Aprendendo\n",
    "Pelo fato desse algoritmo ser básico e seu funcionamento ser quase todo em tempo real, sem guardar muitas coisas na memória, o método learn, para aprendizado, servirá apenas para guardar na classe uma parte do dataset dado como referência, sendo X os parâmetros de cada objeto e Y a quais objetos eles se referem, respectivamente."
   ]
  },
  {
   "cell_type": "code",
   "execution_count": null,
   "metadata": {
    "collapsed": true
   },
   "outputs": [],
   "source": [
    "    def learn(self, X, Y):\n",
    "        self.trainingSet = X\n",
    "        self.answers = Y"
   ]
  },
  {
   "cell_type": "markdown",
   "metadata": {},
   "source": [
    "### Medição das distâncias\n",
    "Dado um vetor que possui conjuntos de parâmetros na função para predição, que veremos mais para a frente, precisaremos calcular a distância de cada um dos objetos a serem classificados até os demais do ambiente, que estão no nosso vetor de treino. Para isso será criada uma função getDistance que receberá três parâmetros:\n",
    "    - target1: vai ser um dos vetores com características de cada objeto contidos no grupo de predição.\n",
    "    - target2: este será um ponto contido no nosso conjunto de treino, trainingSet como veremos futuramente.\n",
    "    - limit: esse é simplesmente o número de características que deveremos calcular para cada objeto, como se estivéssemos dividindo cada objeto em um número n de gráficos, onde n é o número de valores associados a ele. Neste caso 4: comprimentos de pétala e sépala, larguras de pétala e sépala.\n",
    "Para calcularmos esta distância será usada a [distância Euclidiana](https://pt.wikipedia.org/wiki/Dist%C3%A2ncia_euclidiana)."
   ]
  },
  {
   "cell_type": "code",
   "execution_count": 6,
   "metadata": {
    "collapsed": true
   },
   "outputs": [],
   "source": [
    "    def __getDistance(self, target1, target2, limit):\n",
    "        distance = 0\n",
    "        for i in range(limit):\n",
    "            distance += mt.pow((target1[limit] - target2[limit]), 2)\n",
    "        return mt.sqrt(distance)"
   ]
  },
  {
   "cell_type": "markdown",
   "metadata": {},
   "source": [
    "### Encontrando vizinhos próximos\n",
    "Neste passo encontraremos os k vizinhos mais próximos. Para isso foi implementada uma classe getNearest (pegar os mais próximos) que receberá um conjunto de pontos já conhecidos, do trainingSet, um ponto a ser classificado e também um número k, que será a quantidade de pontos vizinhos a serem retornados. Desta forma ficaremos com o seguinte método:"
   ]
  },
  {
   "cell_type": "code",
   "execution_count": 7,
   "metadata": {
    "collapsed": true
   },
   "outputs": [],
   "source": [
    "    def __getNearest(self, trainingSet, testing, k):\n",
    "        distances = []\n",
    "        length = len(testing) - 1\n",
    "\n",
    "        for i in range(len(trainingSet)):\n",
    "\n",
    "            distance = self.__getDistance(testing, trainingSet[i], length)\n",
    "            distances.append((distance, trainingSet[i], self.answers[i]))\n",
    "        distances.sort(key=operator.itemgetter(0))\n",
    "        nearest = []\n",
    "\n",
    "        for i in range(k):\n",
    "            nearest.append((distances[i][1], distances[i][2]))\n",
    "\n",
    "        return nearest"
   ]
  },
  {
   "cell_type": "markdown",
   "metadata": {},
   "source": [
    "### Classificando\n",
    "Para efetuar a classificação de um ponto pegaremos os k vizinhos mais próximos, utilizando o método anterior, e a partir destes faremos uma contagem de quantos temos para cada tipo, como virginica, setosa e versicolor, neste caso. Após efetuarmos a contagem, o tipo com maior número de pontos próximos do que estamos classificando será selecionado, também, para este. Isso porque, de acordo com a ideologia do algoritmo, quanto mais pontos de um tipo perto de outro, são maiores as chances de ele ser do mesmo, isso porque estaria no mesmo ambiente ou área. E foi assim que foi implementada a classe getAnswer como pode ser visto a seguir:"
   ]
  },
  {
   "cell_type": "code",
   "execution_count": 8,
   "metadata": {
    "collapsed": true
   },
   "outputs": [],
   "source": [
    "    def __getAnswer(self, nearestSet):\n",
    "        attributes = {}\n",
    "\n",
    "        for i in range(len(nearestSet)):\n",
    "            answer = nearestSet[i][-1]\n",
    "            if answer not in attributes:\n",
    "                attributes[answer] = 1\n",
    "            else:\n",
    "                attributes[answer] += 1\n",
    "\n",
    "        answer = \"\"\n",
    "        biggest = 0\n",
    "\n",
    "        for each in attributes:\n",
    "            if attributes[each] > biggest:\n",
    "                answer = each\n",
    "        return answer"
   ]
  },
  {
   "cell_type": "markdown",
   "metadata": {},
   "source": [
    "### Fazendo funcionar\n",
    "Bom, agora para fazer o nosso algoritmo funcionar precisamos juntar todas as funções anteriores de forma que ele retorne um tipo para o ponto desconhecido. Para isso foi criada a função prediction, que recebe como parâmetro apenas um vetor com pontos a serem classificados. O seu funcionamento nada mais é do que coordenar os métodos anteriores para funcionarem juntos, e para isso criamos um vetor predictions[] que receberá os resultados da classificação de cada ponto. Após isso, para cada ponto contido na lista que recebemos como parâmetro, calculamos quem são os k vizinhos mais próximos em nearest utilizando getNearest, e a partir destes, utilizando getAnswer, a partir da contagem de quantos pontos de cada tipo temos ao redor, recebemos o resultado da classificação de cada ponto. Após isso o resultado de cada classificação é guardado em predictions que é retornado no fnal, como abaixo: "
   ]
  },
  {
   "cell_type": "code",
   "execution_count": null,
   "metadata": {
    "collapsed": true
   },
   "outputs": [],
   "source": [
    "    def predict(self, X):\n",
    "        predictions = []\n",
    "\n",
    "        for i in range(len(X)):\n",
    "            nearest = self.__getNearest(self.trainingSet, X[i], 2)\n",
    "            result = self.__getAnswer(nearest)\n",
    "            predictions.append(result)\n",
    "\n",
    "        return predictions"
   ]
  },
  {
   "cell_type": "markdown",
   "metadata": {},
   "source": [
    "## Testando a classe\n",
    "Com a classe já pronta precisaremos testa-la, e para isso alguns métodos podem facilitar o trabalho, desta forma criaremos alguns para automatizar os processos.\n",
    "\n",
    "### Separando o dataset\n",
    "Primeiro será criada uma função splitDataSet que dividirá, de acordo com o valor recebido como parâmetro, o dataset das flores Iris em dois, um para treino e outro para teste. O número recebido como parâmetro será uma porcentagem em forma decimal."
   ]
  },
  {
   "cell_type": "code",
   "execution_count": 9,
   "metadata": {
    "collapsed": true
   },
   "outputs": [],
   "source": [
    "def splitDataSet(split):\n",
    "\n",
    "    data = list(datasets.load_iris()['data'])\n",
    "    names = list(datasets.load_iris()['target_names'])\n",
    "    namesEach = list(datasets.load_iris()['target'])\n",
    "\n",
    "    trainingSet = []\n",
    "    namesTraining = []\n",
    "    testSet = []\n",
    "    correctNames = []\n",
    "\n",
    "    for i in range(len(data)):\n",
    "\n",
    "        [float(x) for x in data[i]]\n",
    "\n",
    "        if random.random() < split:\n",
    "            trainingSet.append(data[i])\n",
    "            namesTraining.append(names[namesEach[i]])\n",
    "        else:\n",
    "            testSet.append(data[i])\n",
    "            correctNames.append((names[namesEach[i]]))\n",
    "\n",
    "    return [trainingSet, testSet, namesTraining, correctNames]\n"
   ]
  },
  {
   "cell_type": "markdown",
   "metadata": {},
   "source": [
    "### Finalizando a análise\n",
    "Por fim, devemos criar um método para saber exatamente qual o número de acertos do nosso algoritmo. Para isso o mesmo deve receber uma lista com as classificações corretas das flores para os parâmetros dados no nosso teste, ou predição, e também um outro vetor contendo as classificações feitas pela nossa classe, este gerado pela classe prediction. Desta forma teremos a função getAccuracy como: "
   ]
  },
  {
   "cell_type": "code",
   "execution_count": 1,
   "metadata": {
    "collapsed": true
   },
   "outputs": [],
   "source": [
    "def getAccuracy(testing, predicts):\n",
    "    aux = 0\n",
    "    length = len(testing)\n",
    "    for i in range(length):\n",
    "        if predicts[i] == testing[i]:\n",
    "            aux += 1\n",
    "        print(\"> predicted= \" + predicts[i] + \", correct= \"+testing[i])\n",
    "    return (aux/float(length))*100.00"
   ]
  },
  {
   "cell_type": "markdown",
   "metadata": {},
   "source": [
    "### Testando\n",
    "Agora testaremos o algoritmo para provar o quanto pode ser eficaz:"
   ]
  },
  {
   "cell_type": "code",
   "execution_count": 33,
   "metadata": {
    "scrolled": true
   },
   "outputs": [
    {
     "name": "stdout",
     "output_type": "stream",
     "text": [
      "predicted=  {'versicolor': 16, 'setosa': 13, 'virginica': 14}\n",
      "corretos=  {'versicolor': 16, 'setosa': 19, 'virginica': 18}\n",
      "taxa de acerto= 94.34%\n"
     ]
    }
   ],
   "source": [
    "from sklearn import datasets #dataset\n",
    "import random #usado para separar os datasets de forma a pegar numeros aleatorios\n",
    "import operator #usado para auxiliar um sort como uma key\n",
    "import math as mt #operacoes matematicas dentro do algoritmo\n",
    "\n",
    "class knn:\n",
    "    \"K-nearest-neighboards implementation\"\n",
    "\n",
    "    def __init__(self):\n",
    "        self.trainingSet = [] #vetor de parametros estudados\n",
    "        self.answers = [] #vetor com a resposta para os parametros estudados\n",
    "\n",
    "    def __getDistance(self, target1, target2, limit):\n",
    "        distance = 0\n",
    "\n",
    "        for i in range(limit):\n",
    "            distance += mt.pow((target1[limit] - target2[limit]), 2)\n",
    "\n",
    "        return mt.sqrt(distance) #retorna a distancia euclidiana\n",
    "\n",
    "    def __getNearest(self, trainingSet, testing, k):\n",
    "        distances = []\n",
    "        length = len(testing) - 1 #variavel usada para nao repetir a chamada da funcao len()\n",
    "\n",
    "        for i in range(len(trainingSet)):\n",
    "\n",
    "            distance = self.__getDistance(testing, trainingSet[i], length) #calculando a distancia entre cada ponto da lista de testes e todos os vizinhos to vetor de treinamento\n",
    "            distances.append((distance, trainingSet[i], self.answers[i])) #insere no vetor distances uma tupla com a distancia calculada, o ponto de treinamento e a classificacao correspondente\n",
    "        distances.sort(key=operator.itemgetter(0)) #ordenando pela distancia para pegar os mais próximos\n",
    "        nearest = []\n",
    "\n",
    "        for i in range(k):\n",
    "            nearest.append((distances[i][1], distances[i][2])) #adicionando somente os k mais proximos em nearest\n",
    "\n",
    "        return nearest\n",
    "\n",
    "    def __getAnswer(self, nearestSet):\n",
    "        attributes = {}\n",
    "\n",
    "        for i in range(len(nearestSet)):\n",
    "            answer = nearestSet[i][-1] #guardando o nome de cada um dos vizinhos proximos\n",
    "            if answer not in attributes:\n",
    "                attributes[answer] = 1 #se nao estiver no dicionario e criada uma nova chave com valor um\n",
    "            else:\n",
    "                attributes[answer] += 1 #se já existir uma chave com esse nome apenas incrementa\n",
    "\n",
    "        answer = \"\"\n",
    "        biggest = 0\n",
    "\n",
    "        for each in attributes:\n",
    "            if attributes[each] > biggest: #pega a chave com maior quantidade\n",
    "                answer = each\n",
    "        return answer #retorna a classificacao\n",
    "\n",
    "    def learn(self, X, Y):\n",
    "        self.trainingSet = X #guarda os parametros de um grupo\n",
    "        self.answers = Y #guarda as classificacoes para esses parametros\n",
    "\n",
    "    def predict(self, X):\n",
    "        predictions = []\n",
    "\n",
    "        for i in range(len(X)):\n",
    "            nearest = self.__getNearest(self.trainingSet, X[i], 2) #guarda os vizinhos mais proximos do elemento atual de X\n",
    "            result = self.__getAnswer(nearest) #guarda a possivel classificacao\n",
    "            predictions.append(result) #para cada parametro em X é guardada uma classificacao em predictions\n",
    "\n",
    "        return predictions #retorna um vetor com os resultados para a lista recebida como parametro\n",
    "\n",
    "def splitDataSet(split):\n",
    "\n",
    "    data = list(datasets.load_iris()['data']) #guarda uma lista com todos os parametros desse dataset\n",
    "    names = list(datasets.load_iris()['target_names']) #guarda uma lista com todos os nomes possiveis, nesse caso 3\n",
    "    namesEach = list(datasets.load_iris()['target']) #guarda uma lista com os resultados para os parametros da lista data, em forma de inteiros\n",
    "\n",
    "    trainingSet = []\n",
    "    namesTraining = []\n",
    "    testSet = []\n",
    "    correctNames = []\n",
    "\n",
    "    for i in range(len(data)):\n",
    "\n",
    "        [float(x) for x in data[i]] #convertendo float do numpy para float comum\n",
    "\n",
    "        if random.random() < split: #dividindo dataset entre treino e teste de acordo com o valor passado\n",
    "            trainingSet.append(data[i])\n",
    "            namesTraining.append(names[namesEach[i]])\n",
    "        else:\n",
    "            testSet.append(data[i])\n",
    "            correctNames.append((names[namesEach[i]]))\n",
    "\n",
    "    return [trainingSet, testSet, namesTraining, correctNames] #retorna o set para treino, para test e os respectivos nome de cada objeto contido\n",
    "\n",
    "def getAccuracy(testing, predicts): #retorna o percentual de acertos dados um vetor com os resultados corretos e outro com os feitos pelo algoritmo \n",
    "    aux = 0\n",
    "    length = len(testing)\n",
    "    for i in range(length):\n",
    "        if predicts[i] == testing[i]:\n",
    "            aux += 1\n",
    "    return (aux/float(length))*100.00\n",
    "\n",
    "def getByAnswer(transform): #funcao para separar a quantidade de cada objeto classificado\n",
    "    result = {}\n",
    "    for each in transform:\n",
    "        if each not in result:\n",
    "            result[str(each)] = 1\n",
    "        else:\n",
    "            result[each] += 1\n",
    "    \n",
    "    return result\n",
    "\n",
    "\n",
    "\n",
    "data = splitDataSet(0.7) #dividindo o data set em dois, nesse caso 70% para treino e o restante para teste\n",
    "correctNames = data[3] #guardando as classificacoes corretas do testSet para comparar no final\n",
    "knn = knn() \n",
    "knn.learn(data[0], data[2]) #treinando o objeto\n",
    "predicted = knn.predict(data[1])#fazendo a predição\n",
    "quantityPedicted = getByAnswer(predicted)\n",
    "print(\"predicted= \",quantityPredicted)\n",
    "quantityAnswer = getByAnswer(correctNames)\n",
    "print(\"corretos= \",quantityAnswer)\n",
    "accuracy = getAccuracy(correctNames, predicted) #pegando o percentual de acerto\n",
    "\n",
    "print(\"taxa de acerto= %.2f\"%accuracy+\"%\")"
   ]
  },
  {
   "cell_type": "markdown",
   "metadata": {},
   "source": [
    "\n",
    "\n",
    "## NaiveBayes\n",
    "O próximo algoritmo a ser apresentado tem como nome NaiveBayes, e isso acontece pelo fato do mesmo basear-se em cálculos probabilísticos que tem como origem o teorema de Bayes. Motivado pelo uso de probabilidade condicional, o algoritmo calcula a probabilidade de um certo objeto ser classificado de uma forma de acordo com as probabilidades dos objetos próximos. Ou seja, basicamente o algoritmo apresentado calcula a chance de um acontecimento considerando a probabilidade de outros acontecimentos, onde o primeiro é o ponto ao qual estamos classificando e os demais seriam as classificações dos pontos próximos.\n",
    "\n",
    "## Passo a passo\n",
    "A partir de agora serão explicados os passos para a integralização do algoritmo sem repetir os usados no anterior.\n",
    "\n",
    "### Método construtor\n",
    "No método contrutor desta classe serão inicializados os seguintes atributos:\n",
    "    - trainingSet: este é um vetor que receberá os dados para o treinamento da classe.\n",
    "    - answers: guardará qual o objeto associado a cada um dos parâmetros contidos no trainingSet.\n",
    "    - initialProb: mantém as probabilidades iniciais de cada classificação acontecer de acordo com o \n",
    "    trainingSet.\n",
    "    - auxiliar: será um dicionário auxiliar para guardar quantas vezes cada chave apareceu nos resultados do aprendizado.\n",
    "    - count: serve para guardar quantas vezes uma resposta apareceu em Y e armazená-lo em auxiliar.\n",
    "    - data: armazenará vetores que vão conter as probabilidades de pontos próximos para cada elemento em X.\n",
    "    - split: armazenará um valor percentual que será utilizado para definir os valores mínimo e máximo para as probabilidades próximas, nesse caso utilizaremos 30%."
   ]
  },
  {
   "cell_type": "code",
   "execution_count": null,
   "metadata": {
    "collapsed": true
   },
   "outputs": [],
   "source": [
    "    def __init__(self, split):\n",
    "        self.trainingSet = []\n",
    "        self.answers = []\n",
    "        self.initialProb = {}\n",
    "        self.auxiliar = {}\n",
    "        self.count = {}\n",
    "        self.data = {}\n",
    "        self.split = split"
   ]
  },
  {
   "cell_type": "markdown",
   "metadata": {},
   "source": [
    "## Aprendendo\n",
    "Para começar são guardados os valores passados como parâmetro no próprio objeto. Após isso, são guardados todos os resultados recebidos em uma variável e a quantidade de aparições em outra. A partir destas e o número total de elementos nestes vetores é calculada a probabilidade de cada um desses tipos acontecer no nosso ambiente recebido. Por fim é criada, também, uma variável que guarda outros vetores, onde cada vetor deste mantém as probabilidades de elementos próximos acontecerem para cada ponto do dataset recebido."
   ]
  },
  {
   "cell_type": "code",
   "execution_count": null,
   "metadata": {
    "collapsed": true
   },
   "outputs": [],
   "source": [
    "    def learn(self, X, Y):\n",
    "        self.trainingSet = X #guarda valor no objeto\n",
    "        self.answers = Y #guarda valor no objeto\n",
    "\n",
    "        keys, counts = np.unique(Y, return_counts=True) #keys recebe todas as chaves do dicionário Y e counts será o número associado, sendo a quantidade de aparições\n",
    "\n",
    "        length = len(Y)\n",
    "\n",
    "        for i in range(len(keys)):\n",
    "            self.initialProb[keys[i]] = counts[i]/length #guardando a probabilidade de cada chave aparecer em Y\n",
    "        for i in range(len(keys)):\n",
    "            self.auxiliar[keys[i]] = counts[i] #guardando quantas vezes cada chave apareceu em Y em um dicionario\n",
    "\n",
    "        Ycopy = set(Y)\n",
    "\n",
    "        for i in Ycopy:\n",
    "            self.data[i] = [] #cria um vetor para armazenar as probabilidades dos elementos próximos\n",
    "        for i in range(len(Y)):\n",
    "            self.data[Y[i]].append(X[i])"
   ]
  },
  {
   "cell_type": "markdown",
   "metadata": {},
   "source": [
    "## Contagem\n",
    "Este método é simples, porém essencial para o funcionamento do algoritmo. O que ele faz é receber um parâmetro para acessar a variável data especificada mais acima, outro para acessar as váriaveis desta mencionada no primeiro parâmetro, e valores de mínimo e máximo que definirão alcance dos pontos próximos a serem pegos. Por fim ele retornará uma contagem com todas as instâncias dentro do alcance definido como parâmetro."
   ]
  },
  {
   "cell_type": "code",
   "execution_count": null,
   "metadata": {
    "collapsed": true
   },
   "outputs": [],
   "source": [
    "    def __count(self, target, index, min, max): #retorna a soma das probabilidades com base nos elementos mais próximos\n",
    "        count = 0\n",
    "        for i in range(len(self.data[target])):\n",
    "            if self.data[target][i][index] >= min and self.data[target][i][index] <= max: #verifica se está dentro do alcance\n",
    "                count += 1\n",
    "        return count"
   ]
  },
  {
   "cell_type": "markdown",
   "metadata": {},
   "source": [
    "## Multiplicando\n",
    "A próxima função é para auxiliar nossa classe na hora de fazer a predição, e o que ela faz é receber dois dicionários e efetuar a multiplicação entre os atributos de cada chave contida em ambos, e após isso armazenando os resultados em um novo dicionário. Isso será de grande serventia na hora de multiplicarmos as probabilidades guardadas."
   ]
  },
  {
   "cell_type": "code",
   "execution_count": 18,
   "metadata": {
    "collapsed": true
   },
   "outputs": [],
   "source": [
    "    def __multiplyProbs(self,target1 ,target2): #multiplica as probabilidades contidas em dois dicionários e retorna um novo com os resultados\n",
    "        result = {}\n",
    "        for i in target1:\n",
    "            result[i] = target1[i]*target2[i]\n",
    "        return result\n"
   ]
  },
  {
   "cell_type": "markdown",
   "metadata": {},
   "source": [
    "## Fazendo funcionar\n",
    "Por fim faremos nosso método de predição, e o mesmo funciona de forma parecida com os k vizinhos mais próximos. Primeiramente é criado um vetor que conterá os resultados a serem retornados, após isso, para cada elemento contido na lista recebida como parâmetro nós utilizaremos os métodos anteriores para calcular as probabilidades dos pontos mais próximos, dentro do alcance determinado, e então armazenar os com maior probabilidade, para cada ponto, no vetor de resultado."
   ]
  },
  {
   "cell_type": "code",
   "execution_count": 19,
   "metadata": {
    "collapsed": true
   },
   "outputs": [],
   "source": [
    "    def predict(self, X): #Retorna um vetor com as respostas para o parametro recebido\n",
    "        result = []\n",
    "        for i in range(len(X)): #Para cada item no vetor a ser classificado\n",
    "            initial = self.initialProb.copy() #criando uma copia das probabilidades iniciais para que a linha 60 nao faca modificacoes\n",
    "            for k in range(len(X[i])):\n",
    "                minimum = X[i][j] * (1-self.split) #minimo do alcance em percentagem\n",
    "                maximum = X[i][j] * (1+self.split) #maximo do alcance em percentagem\n",
    "                for key in self.initialProb:\n",
    "                    initial[key] *= self.__count(key, k, minimum, maximum)/self.auxiliar[key]\n",
    "            result.append(max(initial, key=initial.get))#Armazena o maior valor encontrado\n",
    "        return result"
   ]
  },
  {
   "cell_type": "markdown",
   "metadata": {},
   "source": [
    "## Testando\n",
    "Para finalizar testaremos nosso algoritmo utilizando de métodos auxiliares implementados anteriormente para medir sua taxa de acertos."
   ]
  },
  {
   "cell_type": "code",
   "execution_count": 28,
   "metadata": {},
   "outputs": [
    {
     "name": "stdout",
     "output_type": "stream",
     "text": [
      "predicted=  {'versicolor': 16, 'setosa': 13, 'virginica': 14}\n",
      "corretos=  {'versicolor': 14, 'setosa': 13, 'virginica': 16}\n",
      "taxa de acerto= 95.35%\n"
     ]
    }
   ],
   "source": [
    "from sklearn import datasets #dataset\n",
    "import numpy as np\n",
    "\n",
    "class NaiveBayes:\n",
    "    \"\"\"NaiveBayes implementation\"\"\"\n",
    "\n",
    "    def __init__(self, split):\n",
    "        self.trainingSet = []\n",
    "        self.answers = []\n",
    "        self.initialProb = {}\n",
    "        self.auxiliar = {}\n",
    "        self.count = {}\n",
    "        self.data = {}\n",
    "        self.split = split\n",
    "\n",
    "    def learn(self, X, Y):\n",
    "        self.trainingSet = X #guarda valor no objeto\n",
    "        self.answers = Y #guarda valor no objeto\n",
    "\n",
    "        keys, counts = np.unique(Y, return_counts=True) #keys recebe todas as chaves do dicionário Y e counts será o número associado, sendo a quantidade de aparições\n",
    "\n",
    "        length = len(Y)\n",
    "\n",
    "        for i in range(len(keys)):\n",
    "            self.initialProb[keys[i]] = counts[i]/length #guardando a probabilidade de cada chave aparecer em Y\n",
    "        for i in range(len(keys)):\n",
    "            self.auxiliar[keys[i]] = counts[i] #guardando quantas vezes cada chave apareceu em Y em um dicionario\n",
    "\n",
    "        Ycopy = set(Y)\n",
    "\n",
    "        for i in Ycopy:\n",
    "            self.data[i] = [] #cria um vetor para armazenar as probabilidades dos elementos próximos\n",
    "        for i in range(len(Y)):\n",
    "            self.data[Y[i]].append(X[i])\n",
    "\n",
    "    def __count(self, target, index, min, max): #retorna a soma das probabilidades com base nos elementos mais próximos\n",
    "        count = 0\n",
    "        for i in range(len(self.data[target])):\n",
    "            if self.data[target][i][index] >= min and self.data[target][i][index] <= max:\n",
    "                count += 1\n",
    "        return count\n",
    "\n",
    "    def __multiplyProbs(self,target1 ,target2): #multiplica as probabilidades contidas em dois dicionários e retorna um novo com os resultados\n",
    "        result = {}\n",
    "        for i in target1:\n",
    "            result[i] = target1[i]*target2[i]\n",
    "        return result\n",
    "\n",
    "    def predict(self, X): #Retorna um vetor com as respostas para o parametro recebido\n",
    "        result = []\n",
    "        for i in range(len(X)): #Para cada item no vetor a ser classificado\n",
    "            initial = self.initialProb.copy() #criando uma copia das probabilidades iniciais para que a linha 60 nao faca modificacoes\n",
    "            for j in range(len(X[i])):\n",
    "                minimum = X[i][j] * (1-self.split)\n",
    "                maximum = X[i][j] * (1+self.split)\n",
    "                for key in self.initialProb:\n",
    "                    initial[key] *= self.__count(key, j, minimum, maximum)/self.auxiliar[key]\n",
    "            result.append(max(initial, key=initial.get))#Armazena o maior vaor encontrado\n",
    "        return result\n",
    "\n",
    "def splitDataSet(split):\n",
    "\n",
    "    data = list(datasets.load_iris()['data']) #guarda uma lista com todos os parametros desse dataset\n",
    "    names = list(datasets.load_iris()['target_names']) #guarda uma lista com todos os nomes possiveis, nesse caso 3\n",
    "    namesEach = list(datasets.load_iris()['target']) #guarda uma lista com os resultados para os parametros da lista data, em forma de inteiros\n",
    "\n",
    "    trainingSet = []\n",
    "    namesTraining = []\n",
    "    testSet = []\n",
    "    correctNames = []\n",
    "\n",
    "    for i in range(len(data)):\n",
    "\n",
    "        [float(x) for x in data[i]] #convertendo float do numpy para float comum\n",
    "\n",
    "        if random.random() < split: #dividindo dataset entre treino e teste de acordo com o valor passado\n",
    "            trainingSet.append(data[i])\n",
    "            namesTraining.append(names[namesEach[i]])\n",
    "        else:\n",
    "            testSet.append(data[i])\n",
    "            correctNames.append((names[namesEach[i]]))\n",
    "\n",
    "    return [trainingSet, testSet, namesTraining, correctNames] #retorna o set para treino, para test e os respectivos nome de cada objeto contido\n",
    "\n",
    "def getAccuracy(testing, predicts): #retorna o percentual de acertos dados um vetor com os resultados corretos e outro com os feitos pelo algoritmo \n",
    "    aux = 0\n",
    "    length = len(testing)\n",
    "    for i in range(length):\n",
    "        if predicts[i] == testing[i]:\n",
    "            aux += 1\n",
    "    return (aux/float(length))*100.00\n",
    "\n",
    "def getByAnswer(transform): #funcao para separar a quantidade de cada objeto classificado\n",
    "    result = {}\n",
    "    for each in transform:\n",
    "        if each not in result:\n",
    "            result[str(each)] = 1\n",
    "        else:\n",
    "            result[each] += 1\n",
    "    return result\n",
    "\n",
    "data = splitDataSet(0.7) #dividindo o data set em dois, nesse caso 70% para treino e o restante para teste\n",
    "correctNames = data[3] #guardando as classificacoes corretas do testSet para comparar no final\n",
    "naive = NaiveBayes(0.3) #30% para o alcance \n",
    "naive.learn(data[0], data[2]) #treinando o objeto\n",
    "predicted = naive.predict(data[1])#fazendo a predição\n",
    "quantityPredicted = getByAnswer(predicted)\n",
    "print(\"predicted= \",quantityPredicted)\n",
    "quantityAnswer = getByAnswer(correctNames)\n",
    "print(\"corretos= \",quantityAnswer)\n",
    "accuracy = getAccuracy(correctNames, predicted) #pegando o percentual de acerto\n",
    "\n",
    "print(\"taxa de acerto= %.2f\"%accuracy+\"%\")    \n"
   ]
  },
  {
   "cell_type": "markdown",
   "metadata": {},
   "source": [
    "## Comparando acertos\n",
    "Agora testaremos ambos os algoritmos passando exatamente os mesmos dados para aprendizagem e predição."
   ]
  },
  {
   "cell_type": "code",
   "execution_count": 1,
   "metadata": {},
   "outputs": [
    {
     "name": "stdout",
     "output_type": "stream",
     "text": [
      "taxa de acerto kNN= 92.00%\n",
      "taxa de acerto Bayes= 90.00%\n",
      "kNN predicted=  ['setosa', 'versicolor', 'virginica']\n",
      "Bayes predicted=  ['setosa', 'versicolor', 'virginica']\n",
      "corretos=  {'virginica': 16, 'setosa': 23, 'versicolor': 11}\n"
     ]
    }
   ],
   "source": [
    "from sklearn import datasets #dataset\n",
    "import random #usado para separar os datasets de forma a pegar numeros aleatorios\n",
    "import operator #usado para auxiliar um sort como uma key\n",
    "import math as mt #operacoes matematicas dentro do algoritmo\n",
    "\n",
    "class knn:\n",
    "    \"K-nearest-neighboards implementation\"\n",
    "\n",
    "    def __init__(self):\n",
    "        self.trainingSet = [] #vetor de parametros estudados\n",
    "        self.answers = [] #vetor com a resposta para os parametros estudados\n",
    "\n",
    "    def __getDistance(self, target1, target2, limit):\n",
    "        distance = 0\n",
    "\n",
    "        for i in range(limit):\n",
    "            distance += mt.pow((target1[limit] - target2[limit]), 2)\n",
    "\n",
    "        return mt.sqrt(distance) #retorna a distancia euclidiana\n",
    "\n",
    "    def __getNearest(self, trainingSet, testing, k):\n",
    "        distances = []\n",
    "        length = len(testing) - 1 #variavel usada para nao repetir a chamada da funcao len()\n",
    "\n",
    "        for i in range(len(trainingSet)):\n",
    "\n",
    "            distance = self.__getDistance(testing, trainingSet[i], length) #calculando a distancia entre cada ponto da lista de testes e todos os vizinhos to vetor de treinamento\n",
    "            distances.append((distance, trainingSet[i], self.answers[i])) #insere no vetor distances uma tupla com a distancia calculada, o ponto de treinamento e a classificacao correspondente\n",
    "        distances.sort(key=operator.itemgetter(0)) #ordenando pela distancia para pegar os mais próximos\n",
    "        nearest = []\n",
    "\n",
    "        for i in range(k):\n",
    "            nearest.append((distances[i][1], distances[i][2])) #adicionando somente os k mais proximos em nearest\n",
    "\n",
    "        return nearest\n",
    "\n",
    "    def __getAnswer(self, nearestSet):\n",
    "        attributes = {}\n",
    "\n",
    "        for i in range(len(nearestSet)):\n",
    "            answer = nearestSet[i][-1] #guardando o nome de cada um dos vizinhos proximos\n",
    "            if answer not in attributes:\n",
    "                attributes[answer] = 1 #se nao estiver no dicionario e criada uma nova chave com valor um\n",
    "            else:\n",
    "                attributes[answer] += 1 #se já existir uma chave com esse nome apenas incrementa\n",
    "\n",
    "        answer = \"\"\n",
    "        biggest = 0\n",
    "\n",
    "        for each in attributes:\n",
    "            if attributes[each] > biggest: #pega a chave com maior quantidade\n",
    "                answer = each\n",
    "        return answer #retorna a classificacao\n",
    "\n",
    "    def learn(self, X, Y):\n",
    "        self.trainingSet = X #guarda os parametros de um grupo\n",
    "        self.answers = Y #guarda as classificacoes para esses parametros\n",
    "\n",
    "    def predict(self, X):\n",
    "        predictions = []\n",
    "\n",
    "        for i in range(len(X)):\n",
    "            nearest = self.__getNearest(self.trainingSet, X[i], 2) #guarda os vizinhos mais proximos do elemento atual de X\n",
    "            result = self.__getAnswer(nearest) #guarda a possivel classificacao\n",
    "            predictions.append(result) #para cada parametro em X é guardada uma classificacao em predictions\n",
    "\n",
    "        return predictions #retorna um vetor com os resultados para a lista recebida como parametro\n",
    "\n",
    "################################################################################################################\n",
    "\n",
    "import numpy as np\n",
    "\n",
    "class NaiveBayes:\n",
    "    \"\"\"NaiveBayes implementation\"\"\"\n",
    "\n",
    "    def __init__(self, split):\n",
    "        self.trainingSet = []\n",
    "        self.answers = []\n",
    "        self.initialProb = {}\n",
    "        self.auxiliar = {}\n",
    "        self.count = {}\n",
    "        self.data = {}\n",
    "        self.split = split\n",
    "\n",
    "    def learn(self, X, Y):\n",
    "        self.trainingSet = X #guarda valor no objeto\n",
    "        self.answers = Y #guarda valor no objeto\n",
    "\n",
    "        keys, counts = np.unique(Y, return_counts=True) #keys recebe todas as chaves do dicionário Y e counts será o número associado, sendo a quantidade de aparições\n",
    "\n",
    "        length = len(Y)\n",
    "\n",
    "        for i in range(len(keys)):\n",
    "            self.initialProb[keys[i]] = counts[i]/length #guardando a probabilidade de cada chave aparecer em Y\n",
    "        for i in range(len(keys)):\n",
    "            self.auxiliar[keys[i]] = counts[i] #guardando quantas vezes cada chave apareceu em Y em um dicionario\n",
    "\n",
    "        Ycopy = set(Y)\n",
    "\n",
    "        for i in Ycopy:\n",
    "            self.data[i] = [] #cria um vetor para armazenar as probabilidades dos elementos próximos\n",
    "        for i in range(len(Y)):\n",
    "            self.data[Y[i]].append(X[i])\n",
    "\n",
    "    def __count(self, target, index, min, max): #retorna a soma das probabilidades com base nos elementos mais próximos\n",
    "        count = 0\n",
    "        for i in range(len(self.data[target])):\n",
    "            if self.data[target][i][index] >= min and self.data[target][i][index] <= max:\n",
    "                count += 1\n",
    "        return count\n",
    "\n",
    "    def __multiplyProbs(self,target1 ,target2): #multiplica as probabilidades contidas em dois dicionários e retorna um novo com os resultados\n",
    "        result = {}\n",
    "        for i in target1:\n",
    "            result[i] = target1[i]*target2[i]\n",
    "        return result\n",
    "\n",
    "    def predict(self, X): #Retorna um vetor com as respostas para o parametro recebido\n",
    "        result = []\n",
    "        for i in range(len(X)): #Para cada item no vetor a ser classificado\n",
    "            initial = self.initialProb.copy() #criando uma copia das probabilidades iniciais para que a linha 60 nao faca modificacoes\n",
    "            for j in range(len(X[i])):\n",
    "                minimum = X[i][j] * (1-self.split)\n",
    "                maximum = X[i][j] * (1+self.split)\n",
    "                for key in self.initialProb:\n",
    "                    initial[key] *= self.__count(key, j, minimum, maximum)/self.auxiliar[key]\n",
    "            result.append(max(initial, key=initial.get))#Armazena o maior vaor encontrado\n",
    "        return result\n",
    "\n",
    "def splitDataSet(split):\n",
    "\n",
    "    data = list(datasets.load_iris()['data']) #guarda uma lista com todos os parametros desse dataset\n",
    "    names = list(datasets.load_iris()['target_names']) #guarda uma lista com todos os nomes possiveis, nesse caso 3\n",
    "    namesEach = list(datasets.load_iris()['target']) #guarda uma lista com os resultados para os parametros da lista data, em forma de inteiros\n",
    "\n",
    "    trainingSet = []\n",
    "    namesTraining = []\n",
    "    testSet = []\n",
    "    correctNames = []\n",
    "\n",
    "    for i in range(len(data)):\n",
    "\n",
    "        [float(x) for x in data[i]] #convertendo float do numpy para float comum\n",
    "\n",
    "        if random.random() < split: #dividindo dataset entre treino e teste de acordo com o valor passado\n",
    "            trainingSet.append(data[i])\n",
    "            namesTraining.append(names[namesEach[i]])\n",
    "        else:\n",
    "            testSet.append(data[i])\n",
    "            correctNames.append((names[namesEach[i]]))\n",
    "\n",
    "    return [trainingSet, testSet, namesTraining, correctNames] #retorna o set para treino, para test e os respectivos nome de cada objeto contido\n",
    "\n",
    "def getAccuracy(testing, predicts): #retorna o percentual de acertos dados um vetor com os resultados corretos e outro com os feitos pelo algoritmo \n",
    "    aux = 0\n",
    "    length = len(testing)\n",
    "    for i in range(length):\n",
    "        if predicts[i] == testing[i]:\n",
    "            aux += 1\n",
    "    return (aux/float(length))*100.00\n",
    "\n",
    "def getByAnswer(transform): #funcao para separar a quantidade de cada objeto classificado\n",
    "    result = {}\n",
    "    for each in transform:\n",
    "        if each not in result:\n",
    "            result[str(each)] = 1\n",
    "        else:\n",
    "            result[each] += 1\n",
    "    return result\n",
    "\n",
    "data = splitDataSet(0.7)\n",
    "correctNames = data[3]\n",
    "knn = knn()\n",
    "bayes = NaiveBayes(0.3)\n",
    "knn.learn(data[0], data[2])\n",
    "bayes.learn(data[0], data[2])\n",
    "predictKNN = knn.predict(data[1])\n",
    "predictBayes = bayes.predict(data[1])\n",
    "quantitiesKNN = sorted(getByAnswer(predictKNN))\n",
    "quantitiesBayes = sorted(getByAnswer(predictBayes))\n",
    "accuracyknn = getAccuracy(correctNames, predictKNN)\n",
    "accuracybayes = getAccuracy(correctNames, predictBayes)\n",
    "\n",
    "print(\"taxa de acerto kNN= %.2f\"%accuracyknn+\"%\")\n",
    "print(\"taxa de acerto Bayes= %.2f\"%accuracybayes+\"%\")\n",
    "print(\"kNN predicted= \", quantitiesKNN)\n",
    "print(\"Bayes predicted= \", quantitiesBayes)\n",
    "quantityAnswer = getByAnswer(correctNames)\n",
    "\n",
    "\n",
    "print(\"corretos= \",quantityAnswer)"
   ]
  },
  {
   "cell_type": "code",
   "execution_count": 122,
   "metadata": {
    "collapsed": true
   },
   "outputs": [],
   "source": [
    "import matplotlib.pyplot as plt\n",
    "def plotBars(dict):\n",
    "    D = dict\n",
    "    plt.style.use('fivethirtyeight')\n",
    "    bars = plt.bar(range(len(D)), D.values(), align='center')\n",
    "    bars[0].set_color('r')\n",
    "    bars[1].set_color('b')\n",
    "    bars[2].set_color('g')\n",
    "    plt.xticks(range(len(D)), list(D.keys()))\n",
    "\n",
    "    plt.show()"
   ]
  },
  {
   "cell_type": "markdown",
   "metadata": {},
   "source": [
    "### Resultado kNN em gráfico"
   ]
  },
  {
   "cell_type": "code",
   "execution_count": 123,
   "metadata": {},
   "outputs": [
    {
     "data": {
      "image/png": "[encoded data removed]",
      "text/plain": [
       "<matplotlib.figure.Figure at 0x7f5225d3ac88>"
      ]
     },
     "metadata": {},
     "output_type": "display_data"
    },
    {
     "name": "stdout",
     "output_type": "stream",
     "text": [
      "resultado kNN=  {'versicolor': 17, 'setosa': 20, 'virginica': 18}\n"
     ]
    }
   ],
   "source": [
    "plotBars(quantitiesKNN)\n",
    "\n",
    "print(\"resultado kNN= \",quantitiesKNN)"
   ]
  },
  {
   "cell_type": "markdown",
   "metadata": {},
   "source": [
    "### Resultado NaiveBayes em gráfico"
   ]
  },
  {
   "cell_type": "code",
   "execution_count": 124,
   "metadata": {
    "scrolled": false
   },
   "outputs": [
    {
     "data": {
      "image/png": "[encoded data removed]",
      "text/plain": [
       "<matplotlib.figure.Figure at 0x7f5225a5bd30>"
      ]
     },
     "metadata": {},
     "output_type": "display_data"
    },
    {
     "name": "stdout",
     "output_type": "stream",
     "text": [
      "resultado NaiveBayes=  {'versicolor': 18, 'setosa': 20, 'virginica': 17}\n"
     ]
    }
   ],
   "source": [
    "plotBars(quantitiesBayes)\n",
    "\n",
    "print(\"resultado NaiveBayes= \",quantitiesBayes)"
   ]
  },
  {
   "cell_type": "markdown",
   "metadata": {},
   "source": [
    "### Resultado esperado em gráfico"
   ]
  },
  {
   "cell_type": "code",
   "execution_count": 125,
   "metadata": {},
   "outputs": [
    {
     "data": {
      "image/png": "[encoded data removed]",
      "text/plain": [
       "<matplotlib.figure.Figure at 0x7f5225d3ab38>"
      ]
     },
     "metadata": {},
     "output_type": "display_data"
    },
    {
     "name": "stdout",
     "output_type": "stream",
     "text": [
      "resultado esperado=  {'versicolor': 17, 'setosa': 20, 'virginica': 18}\n"
     ]
    }
   ],
   "source": [
    "plotBars(quantityAnswer)\n",
    "\n",
    "print(\"resultado esperado= \",quantityAnswer)"
   ]
  },
  {
   "cell_type": "code",
   "execution_count": 132,
   "metadata": {},
   "outputs": [
    {
     "data": {
      "image/png": "[encoded data removed]",
      "text/plain": [
       "<matplotlib.figure.Figure at 0x7f5225a33da0>"
      ]
     },
     "metadata": {},
     "output_type": "display_data"
    },
    {
     "name": "stdout",
     "output_type": "stream",
     "text": [
      "resultado NaiveBayes=  {'versicolor': 18, 'setosa': 20, 'virginica': 17}\n",
      "resultado kNN=         {'versicolor': 17, 'setosa': 20, 'virginica': 18}\n"
     ]
    }
   ],
   "source": [
    "names = []\n",
    "values = []\n",
    "for each in quantitiesKNN:\n",
    "    names += [\"kNN \"+each]\n",
    "    values += [quantitiesKNN[each]]\n",
    "    names += [\"Bayes \"+each]\n",
    "    values += [quantitiesBayes[each]]\n",
    "plt.figure(figsize=(10, 5))\n",
    "plt.style.use('fivethirtyeight')\n",
    "bars = plt.bar(range(len(D)+len(E)), values, align='center')\n",
    "for k in range(0, 6, 2):\n",
    "    bars[k].set_color('r')\n",
    "plt.xticks(range(len(D)+len(E)), names)\n",
    "\n",
    "plt.show()\n",
    "\n",
    "print(\"resultado NaiveBayes= \",quantitiesBayes)\n",
    "print(\"resultado kNN=        \",quantitiesKNN)"
   ]
  },
  {
   "cell_type": "code",
   "execution_count": 129,
   "metadata": {},
   "outputs": [
    {
     "data": {
      "image/png": "[encoded data removed]",
      "text/plain": [
       "<matplotlib.figure.Figure at 0x7f52248fdba8>"
      ]
     },
     "metadata": {},
     "output_type": "display_data"
    },
    {
     "name": "stdout",
     "output_type": "stream",
     "text": [
      "resultado NaiveBayes=  {'versicolor': 18, 'setosa': 20, 'virginica': 17}\n",
      "resultado kNN=         {'versicolor': 17, 'setosa': 20, 'virginica': 18}\n",
      "resultado esperado=    {'versicolor': 17, 'setosa': 20, 'virginica': 18}\n"
     ]
    }
   ],
   "source": [
    "names = []\n",
    "values = []\n",
    "for each in quantitiesKNN:\n",
    "    names += [\"kNN \"+each]\n",
    "    values += [quantitiesKNN[each]]\n",
    "    names+= [\"correct \"+each]\n",
    "    values += [quantityAnswer[each]]\n",
    "    names += [\"Bayes \"+each]\n",
    "    values += [quantitiesBayes[each]]\n",
    "plt.figure(figsize=(20, 10)) \n",
    "bars = plt.bar(range(9), values, align='center')\n",
    "for k in range(0, 9, 3):\n",
    "    bars[k].set_color('r')\n",
    "for k in range(1, 9, 3):\n",
    "    bars[k].set_color('g')\n",
    "plt.xticks(range(9), names)\n",
    "\n",
    "plt.show()\n",
    "\n",
    "print(\"resultado NaiveBayes= \",quantitiesBayes)\n",
    "print(\"resultado kNN=        \",quantitiesKNN)\n",
    "print(\"resultado esperado=   \", quantityAnswer)"
   ]
  },
  {
   "cell_type": "markdown",
   "metadata": {},
   "source": [
    "## Comparação\n",
    "   Visto que os dois algoritmos tem uma forma de funcionamento muito parecida, dados os mesmo datasets de X e Y para treinamento, e X para predição pudemos perceber que suas taxas de acerto estão sempre muito próximas. Em relação à variação de resultados, ao serem rodados novamente, temos que o kNN tem uma variação maior em relação ao nosso NaiveBayes. \n",
    "   \n",
    "   Uma possível explicação para isso é que no fim de ambos temos uma pequena diferença, enquanto o NB trabalha com números exatos de probabilidade na hora de selecionar o mais próximo mais influente, o kNN seleciona um dos que mais aparecem ao seu redor, porém, diferente do NaiveBayes que resulta em probabilidades com valores mais precisos, este pega o maior número de vizinhos de certo tipo para determinar sua classificação, desta forma podendo ocorrer igualdades no número de vizinhos com cada rótulo, por exemplo, se temos vizinhos com os seguintes tipos respectivamente: [1,1,3,4,4], acarretaria em um empate na hora de escolhero tipo do ponto que está sendo testado, havendo uma margem de erro maior pelo fato de poder ser escolhido o tipo 1 ou o tipo 4. \n",
    "  \n",
    "  Na questão de precisão ambos são muito parecidos, porém se tratando de estabilidade o algoritmo NaiveBayes pode ser um pouco melhor que o kNN dados os mesmos datasets para treino e teste."
   ]
  },
  {
   "cell_type": "markdown",
   "metadata": {},
   "source": [
    "\n",
    "Autor: Fernando Costa Rodrigues"
   ]
  }
 ],
 "metadata": {
  "kernelspec": {
   "display_name": "Python 3",
   "language": "python",
   "name": "python3"
  },
  "language_info": {
   "codemirror_mode": {
    "name": "ipython",
    "version": 3
   },
   "file_extension": ".py",
   "mimetype": "text/x-python",
   "name": "python",
   "nbconvert_exporter": "python",
   "pygments_lexer": "ipython3",
   "version": "3.5.2"
  }
 },
 "nbformat": 4,
 "nbformat_minor": 2
}
